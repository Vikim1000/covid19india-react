{
 "cells": [
  {
   "cell_type": "code",
   "execution_count": 1,
   "id": "81057acb",
   "metadata": {
    "_cell_guid": "b1076dfc-b9ad-4769-8c92-a6c4dae69d19",
    "_uuid": "8f2839f25d086af736a60e9eeb907d3b93b6e0e5",
    "execution": {
     "iopub.execute_input": "2022-08-16T09:11:25.258305Z",
     "iopub.status.busy": "2022-08-16T09:11:25.257441Z",
     "iopub.status.idle": "2022-08-16T09:11:25.272220Z",
     "shell.execute_reply": "2022-08-16T09:11:25.270974Z"
    },
    "papermill": {
     "duration": 0.022157,
     "end_time": "2022-08-16T09:11:25.274773",
     "exception": false,
     "start_time": "2022-08-16T09:11:25.252616",
     "status": "completed"
    },
    "tags": []
   },
   "outputs": [],
   "source": [
    "# This Python 3 environment comes with many helpful analytics libraries installed\n",
    "# It is defined by the kaggle/python Docker image: https://github.com/kaggle/docker-python\n",
    "# For example, here's several helpful packages to load\n",
    "\n",
    "import numpy as np # linear algebra\n",
    "import pandas as pd # data processing, CSV file I/O (e.g. pd.read_csv)\n",
    "\n",
    "# Input data files are available in the read-only \"../input/\" directory\n",
    "# For example, running this (by clicking run or pressing Shift+Enter) will list all files under the input directory\n",
    "\n",
    "import os\n",
    "for dirname, _, filenames in os.walk('/kaggle/input'):\n",
    "    for filename in filenames:\n",
    "        print(os.path.join(dirname, filename))\n",
    "\n",
    "# You can write up to 20GB to the current directory (/kaggle/working/) that gets preserved as output when you create a version using \"Save & Run All\" \n",
    "# You can also write temporary files to /kaggle/temp/, but they won't be saved outside of the current session\n",
    "\n"
   ]
  },
  {
   "cell_type": "code",
   "execution_count": 2,
   "id": "f0a24095",
   "metadata": {
    "execution": {
     "iopub.execute_input": "2022-08-16T09:11:25.281200Z",
     "iopub.status.busy": "2022-08-16T09:11:25.280777Z",
     "iopub.status.idle": "2022-08-16T09:11:25.285304Z",
     "shell.execute_reply": "2022-08-16T09:11:25.284386Z"
    },
    "papermill": {
     "duration": 0.010425,
     "end_time": "2022-08-16T09:11:25.287560",
     "exception": false,
     "start_time": "2022-08-16T09:11:25.277135",
     "status": "completed"
    },
    "tags": []
   },
   "outputs": [],
   "source": [
    "#Netflix dataset"
   ]
  },
  {
   "cell_type": "code",
   "execution_count": null,
   "id": "68646bd3",
   "metadata": {
    "papermill": {
     "duration": 0.001917,
     "end_time": "2022-08-16T09:11:25.291780",
     "exception": false,
     "start_time": "2022-08-16T09:11:25.289863",
     "status": "completed"
    },
    "tags": []
   },
   "outputs": [],
   "source": []
  },
  {
   "cell_type": "code",
   "execution_count": null,
   "id": "5ff791a5",
   "metadata": {
    "papermill": {
     "duration": 0.001792,
     "end_time": "2022-08-16T09:11:25.295646",
     "exception": false,
     "start_time": "2022-08-16T09:11:25.293854",
     "status": "completed"
    },
    "tags": []
   },
   "outputs": [],
   "source": []
  },
  {
   "cell_type": "code",
   "execution_count": null,
   "id": "63a6853d",
   "metadata": {
    "papermill": {
     "duration": 0.001739,
     "end_time": "2022-08-16T09:11:25.299381",
     "exception": false,
     "start_time": "2022-08-16T09:11:25.297642",
     "status": "completed"
    },
    "tags": []
   },
   "outputs": [],
   "source": []
  }
 ],
 "metadata": {
  "kernelspec": {
   "display_name": "Python 3",
   "language": "python",
   "name": "python3"
  },
  "language_info": {
   "codemirror_mode": {
    "name": "ipython",
    "version": 3
   },
   "file_extension": ".py",
   "mimetype": "text/x-python",
   "name": "python",
   "nbconvert_exporter": "python",
   "pygments_lexer": "ipython3",
   "version": "3.7.12"
  },
  "papermill": {
   "default_parameters": {},
   "duration": 10.857274,
   "end_time": "2022-08-16T09:11:26.023948",
   "environment_variables": {},
   "exception": null,
   "input_path": "__notebook__.ipynb",
   "output_path": "__notebook__.ipynb",
   "parameters": {},
   "start_time": "2022-08-16T09:11:15.166674",
   "version": "2.3.4"
  }
 },
 "nbformat": 4,
 "nbformat_minor": 5
}
